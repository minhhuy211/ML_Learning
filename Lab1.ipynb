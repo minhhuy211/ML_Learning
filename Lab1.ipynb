{
  "nbformat": 4,
  "nbformat_minor": 0,
  "metadata": {
    "colab": {
      "provenance": [],
      "authorship_tag": "ABX9TyN7cye3xEHYve8FheZWtW8s",
      "include_colab_link": true
    },
    "kernelspec": {
      "name": "python3",
      "display_name": "Python 3"
    },
    "language_info": {
      "name": "python"
    }
  },
  "cells": [
    {
      "cell_type": "markdown",
      "metadata": {
        "id": "view-in-github",
        "colab_type": "text"
      },
      "source": [
        "<a href=\"https://colab.research.google.com/github/minhhuy211/ML_Learning/blob/master/Lab1.ipynb\" target=\"_parent\"><img src=\"https://colab.research.google.com/assets/colab-badge.svg\" alt=\"Open In Colab\"/></a>"
      ]
    },
    {
      "cell_type": "code",
      "execution_count": null,
      "metadata": {
        "colab": {
          "base_uri": "https://localhost:8080/"
        },
        "id": "UsGxop7Sohoh",
        "outputId": "d9f5c51d-0c83-4148-88d9-1d97bb30a43b"
      },
      "outputs": [
        {
          "output_type": "stream",
          "name": "stdout",
          "text": [
            "Enter n: 3\n",
            "3\n",
            "Enter the number of integer: 3\n",
            "Enter integer number 1: 4\n",
            "Enter integer number 2: -2\n",
            "Enter integer number 3: 5\n",
            "List L: [4, -2, 5]\n",
            "Min element in L: -2\n",
            "Max element in L: 5\n",
            "Sum of elements in L: 7\n",
            "Sort ascendng List: [-2, 4, 5]\n",
            "Sort decending List: [5, 4, -2]\n",
            "Number of Positive: 2\n",
            "Numver of Negative: 1\n"
          ]
        }
      ],
      "source": [
        "# Task1\n",
        "# Task1.1\n",
        "\n",
        "# Input the an integer number n\n",
        "n = int(input(\"Enter n: \"))\n",
        "print(n)\n",
        "\n",
        "# Input n integer number x1, x2,..., xn and append them into a list L.\n",
        "n = int(input(\"Enter the number of integer: \"))\n",
        "L = []\n",
        "for i in range(n):\n",
        "  num = int(input(\"Enter integer number {}: \".format(i + 1)))\n",
        "  L.append(num)\n",
        "print(\"List L:\", L)\n",
        "\n",
        "# Find the max. min element in L.\n",
        "print(\"Min element in L:\",min(L))\n",
        "print(\"Max element in L:\",max(L))\n",
        "\n",
        "#Compute the sum of elemnets in L.\n",
        "print(\"Sum of elements in L:\",sum(L))\n",
        "\n",
        "# Sort the list L in ascending order\n",
        "print(\"Sort ascendng List:\",sorted(L))\n",
        "print(\"Sort decending List:\",sorted(L, reverse=True))\n",
        "\n",
        "# Show how many positive and negative numbers are in the list L\n",
        "posNum = 0\n",
        "negNum = 0\n",
        "for x in L:\n",
        "  if x > 0:\n",
        "    posNum += 1\n",
        "  elif x < 0:\n",
        "    negNum +=1\n",
        "print(\"Number of Positive:\",posNum)\n",
        "print(\"Numver of Negative:\",negNum)"
      ]
    },
    {
      "cell_type": "code",
      "source": [
        "# Tast1.2 Implement a Python function to compute S(n) as follows:"
      ],
      "metadata": {
        "id": "rLtpegF-4Bu2"
      },
      "execution_count": null,
      "outputs": []
    }
  ]
}