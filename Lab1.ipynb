{
  "nbformat": 4,
  "nbformat_minor": 0,
  "metadata": {
    "colab": {
      "provenance": [],
      "authorship_tag": "ABX9TyNb15pK7qw5YIpFHsDyhWO9",
      "include_colab_link": true
    },
    "kernelspec": {
      "name": "python3",
      "display_name": "Python 3"
    },
    "language_info": {
      "name": "python"
    }
  },
  "cells": [
    {
      "cell_type": "markdown",
      "metadata": {
        "id": "view-in-github",
        "colab_type": "text"
      },
      "source": [
        "<a href=\"https://colab.research.google.com/github/minhhuy211/ML_Learning/blob/master/Lab1.ipynb\" target=\"_parent\"><img src=\"https://colab.research.google.com/assets/colab-badge.svg\" alt=\"Open In Colab\"/></a>"
      ]
    },
    {
      "cell_type": "code",
      "execution_count": null,
      "metadata": {
        "colab": {
          "base_uri": "https://localhost:8080/"
        },
        "id": "UsGxop7Sohoh",
        "outputId": "d9f5c51d-0c83-4148-88d9-1d97bb30a43b"
      },
      "outputs": [
        {
          "output_type": "stream",
          "name": "stdout",
          "text": [
            "Enter n: 3\n",
            "3\n",
            "Enter the number of integer: 3\n",
            "Enter integer number 1: 4\n",
            "Enter integer number 2: -2\n",
            "Enter integer number 3: 5\n",
            "List L: [4, -2, 5]\n",
            "Min element in L: -2\n",
            "Max element in L: 5\n",
            "Sum of elements in L: 7\n",
            "Sort ascendng List: [-2, 4, 5]\n",
            "Sort decending List: [5, 4, -2]\n",
            "Number of Positive: 2\n",
            "Numver of Negative: 1\n"
          ]
        }
      ],
      "source": [
        "# Task1\n",
        "# Task1.1\n",
        "\n",
        "# Input the an integer number n\n",
        "n = int(input(\"Enter n: \"))\n",
        "print(n)\n",
        "\n",
        "# Input n integer number x1, x2,..., xn and append them into a list L.\n",
        "n = int(input(\"Enter the number of integer: \"))\n",
        "L = []\n",
        "for i in range(n):\n",
        "  num = int(input(\"Enter integer number {}: \".format(i + 1)))\n",
        "  L.append(num)\n",
        "print(\"List L:\", L)\n",
        "\n",
        "# Find the max. min element in L.\n",
        "print(\"Min element in L:\",min(L))\n",
        "print(\"Max element in L:\",max(L))\n",
        "\n",
        "#Compute the sum of elemnets in L.\n",
        "print(\"Sum of elements in L:\",sum(L))\n",
        "\n",
        "# Sort the list L in ascending order\n",
        "print(\"Sort ascendng List:\",sorted(L))\n",
        "print(\"Sort decending List:\",sorted(L, reverse=True))\n",
        "\n",
        "# Show how many positive and negative numbers are in the list L\n",
        "posNum = 0\n",
        "negNum = 0\n",
        "for x in L:\n",
        "  if x > 0:\n",
        "    posNum += 1\n",
        "  elif x < 0:\n",
        "    negNum +=1\n",
        "print(\"Number of Positive:\",posNum)\n",
        "print(\"Numver of Negative:\",negNum)"
      ]
    },
    {
      "cell_type": "code",
      "source": [
        "# Tast1.2 Implement a Python function to compute S(n) as follows:\n",
        "# S(n) = 1+1.2+1.2.3+...+1.2.3...n,       n > 0\n",
        "\n",
        "def compute_S(n):\n",
        "  result = 0\n",
        "  factorial = 1\n",
        "  for i in range(1, n + 1):\n",
        "    factorial *= i\n",
        "    result += factorial\n",
        "  return result\n",
        "\n",
        "# Test\n",
        "n = int(input(\"Enter the number n: \"))\n",
        "print(\"S({}) = {}\".format(n, compute_S(n)))"
      ],
      "metadata": {
        "id": "rLtpegF-4Bu2",
        "colab": {
          "base_uri": "https://localhost:8080/"
        },
        "outputId": "b5b2a911-4778-47c0-9918-91b5fd2e0806"
      },
      "execution_count": 2,
      "outputs": [
        {
          "output_type": "stream",
          "name": "stdout",
          "text": [
            "Enter the number n: 3\n",
            "S(3) = 9\n"
          ]
        }
      ]
    },
    {
      "cell_type": "code",
      "source": [
        "# Task 1.3: Implement the methods in Account, and AccountManager classes in below figure:\n",
        "class Port:\n",
        "  def __init__(self, content, subject, likes):\n",
        "    self.__content = content\n",
        "    self.__subject = subject\n",
        "    self.__likes = likes\n",
        "\n",
        "class Account:\n",
        "  def __init__(self, name, email, country):\n",
        "    self.__name = name\n",
        "    self.__email = email\n",
        "    self.__country = country\n",
        "    self.__friends = list()\n",
        "    self.__posts = list()\n",
        "\n",
        "  def add_friend(self, friend):\n",
        "    self.__friends.append(friend)\n",
        "\n",
        "  def add_posts(self, post):\n",
        "    self.__posts.append(post)\n",
        "\n",
        "class AccountManager:\n",
        "  def __init__(self):\n",
        "    self.__accounts = list()\n",
        "\n",
        "  def add_accounts(self, account):\n",
        "    self.__accounts.append(account)\n",
        "\n",
        "\n",
        ""
      ],
      "metadata": {
        "id": "C17_VbmX6FQV"
      },
      "execution_count": null,
      "outputs": []
    }
  ]
}