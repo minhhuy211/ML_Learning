{
  "nbformat": 4,
  "nbformat_minor": 0,
  "metadata": {
    "colab": {
      "provenance": [],
      "authorship_tag": "ABX9TyOLYm5qfy+ZA2aDNwnhw79q",
      "include_colab_link": true
    },
    "kernelspec": {
      "name": "python3",
      "display_name": "Python 3"
    },
    "language_info": {
      "name": "python"
    }
  },
  "cells": [
    {
      "cell_type": "markdown",
      "metadata": {
        "id": "view-in-github",
        "colab_type": "text"
      },
      "source": [
        "<a href=\"https://colab.research.google.com/github/minhhuy211/ML_Learning/blob/master/Lab1.ipynb\" target=\"_parent\"><img src=\"https://colab.research.google.com/assets/colab-badge.svg\" alt=\"Open In Colab\"/></a>"
      ]
    },
    {
      "cell_type": "code",
      "execution_count": null,
      "metadata": {
        "colab": {
          "base_uri": "https://localhost:8080/"
        },
        "id": "UsGxop7Sohoh",
        "outputId": "d9f5c51d-0c83-4148-88d9-1d97bb30a43b"
      },
      "outputs": [
        {
          "output_type": "stream",
          "name": "stdout",
          "text": [
            "Enter n: 3\n",
            "3\n",
            "Enter the number of integer: 3\n",
            "Enter integer number 1: 4\n",
            "Enter integer number 2: -2\n",
            "Enter integer number 3: 5\n",
            "List L: [4, -2, 5]\n",
            "Min element in L: -2\n",
            "Max element in L: 5\n",
            "Sum of elements in L: 7\n",
            "Sort ascendng List: [-2, 4, 5]\n",
            "Sort decending List: [5, 4, -2]\n",
            "Number of Positive: 2\n",
            "Numver of Negative: 1\n"
          ]
        }
      ],
      "source": [
        "# Task1\n",
        "# Task1.1\n",
        "\n",
        "# Input the an integer number n\n",
        "n = int(input(\"Enter n: \"))\n",
        "print(n)\n",
        "\n",
        "# Input n integer number x1, x2,..., xn and append them into a list L.\n",
        "n = int(input(\"Enter the number of integer: \"))\n",
        "L = []\n",
        "for i in range(n):\n",
        "  num = int(input(\"Enter integer number {}: \".format(i + 1)))\n",
        "  L.append(num)\n",
        "print(\"List L:\", L)\n",
        "\n",
        "# Find the max. min element in L.\n",
        "print(\"Min element in L:\",min(L))\n",
        "print(\"Max element in L:\",max(L))\n",
        "\n",
        "#Compute the sum of elemnets in L.\n",
        "print(\"Sum of elements in L:\",sum(L))\n",
        "\n",
        "# Sort the list L in ascending order\n",
        "print(\"Sort ascendng List:\",sorted(L))\n",
        "print(\"Sort decending List:\",sorted(L, reverse=True))\n",
        "\n",
        "# Show how many positive and negative numbers are in the list L\n",
        "posNum = 0\n",
        "negNum = 0\n",
        "for x in L:\n",
        "  if x > 0:\n",
        "    posNum += 1\n",
        "  elif x < 0:\n",
        "    negNum +=1\n",
        "print(\"Number of Positive:\",posNum)\n",
        "print(\"Numver of Negative:\",negNum)"
      ]
    },
    {
      "cell_type": "code",
      "source": [
        "# Tast1.2 Implement a Python function to compute S(n) as follows:\n",
        "# S(n) = 1+1.2+1.2.3+...+1.2.3...n,       n > 0\n",
        "\n",
        "def compute_S(n):\n",
        "  result = 0\n",
        "  factorial = 1\n",
        "  for i in range(1, n + 1):\n",
        "    factorial *= i\n",
        "    result += factorial\n",
        "  return result\n",
        "\n",
        "# Test\n",
        "n = int(input(\"Enter the number n: \"))\n",
        "print(\"S({}) = {}\".format(n, compute_S(n)))"
      ],
      "metadata": {
        "id": "rLtpegF-4Bu2",
        "colab": {
          "base_uri": "https://localhost:8080/"
        },
        "outputId": "3716c6d2-1200-402e-f3ba-bbe1082947e1"
      },
      "execution_count": 32,
      "outputs": [
        {
          "output_type": "stream",
          "name": "stdout",
          "text": [
            "Enter the number n: 4\n",
            "S(4) = 33\n"
          ]
        }
      ]
    },
    {
      "cell_type": "code",
      "source": [
        "#Task 1.3\n",
        "from typing import List, Dict, Set\n",
        "from datetime import datetime\n",
        "class Post:\n",
        "  def __init__(self, content: str, subject: str, likes: int):\n",
        "      self.content = content\n",
        "      self.subject = subject\n",
        "      self.likes = likes\n",
        "class Account:\n",
        "  def __init__(self, name: str, email: str, country: str):\n",
        "      self.name = name\n",
        "      self.email = email\n",
        "      self.country = country\n",
        "      self.friends = []\n",
        "      self.posts = []\n",
        "class VerifiedAccount(Account):\n",
        "  def __init__(self, name: str, email: str, country: str, fromDate: datetime):\n",
        "      super().__init__(name, email, country)\n",
        "      self.fromDate = fromDate\n",
        "class NormalAccount(Account):\n",
        "    pass\n",
        "class AccountManager:\n",
        "  def __init__(self, accounts: List[Account]):\n",
        "      self.accounts = accounts\n",
        "  def getMaxLikePostByFriend(self) -> Account:\n",
        "      max_likes = -1\n",
        "      max_likes_account = None\n",
        "      for account in self.accounts:\n",
        "          for friend in account.friends:\n",
        "              for post in friend.posts:\n",
        "                  if post.likes > max_likes:\n",
        "                      max_likes = post.likes\n",
        "                      max_likes_account = account\n",
        "      return max_likes_account\n",
        "  def groupAccountsByPostLike(self) -> Dict[bool, List[Account]]:\n",
        "      grouped_accounts = {False: [], True: []}\n",
        "      for account in self.accounts:\n",
        "          if len(account.posts) < 10:\n",
        "              grouped_accounts[False].append(account)\n",
        "          else:\n",
        "              grouped_accounts[True].append(account)\n",
        "      return grouped_accounts\n",
        "  def filterAccounts(self, country: str) -> Set[Account]:\n",
        "      filtered_accounts = {account for account in self.accounts if account.country == country}\n",
        "      filtered_accounts = sorted(filtered_accounts, key=lambda x: (len(x.posts), x.name), reverse=True)\n",
        "      return filtered_accounts\n",
        " # Test\n",
        "if __name__ == \"__main__\":\n",
        "  # Create accounts\n",
        "  account1 = VerifiedAccount(\"Nguyen Mai Li\", \"li@gmail.com\", \"Viet Nam\", datetime(2024, 1, 1))\n",
        "  account2 = NormalAccount(\"Ho Nguyen Anh\", \"anh@gmail.com\", \"UK\")\n",
        "  account3 = NormalAccount(\"Le Hoa\", \"hoa@gmail.com\", \"USA\")\n",
        "  account4 = NormalAccount(\"Huynh Thi Dy\", \"dy@gmail.com\", \"Viet Nam\")\n",
        "  account5 = NormalAccount(\"Le Ngoc Hoan\", \"hoan@gmail.com\", \"Trung Quoc\")\n",
        "  # Add posts to accounts\n",
        "  account1.posts = [Post(\"Post 1 by Li\", \"Subject 1\", 10), Post(\"Post 2 by Li\", \"Subject 2\", 15)]\n",
        "  account2.posts = [Post(\"Post 1 by Anh\", \"Subject 1\", 20)]\n",
        "  account3.posts = [Post(\"Post 1 by Hoa\", \"Subject 1\", 5), Post(\"Post 2 by Hoa\", \"Subject 2\", 8)]\n",
        "  account4.posts = [Post(\"Post 1 by Dy\", \"Subject 1\", 12)]\n",
        "  account5.posts = [Post(\"Post 1 by Hoan\", \"Subject 1\", 7), Post(\"Post 2 by Hoan\", \"Subject 2\", 18)]\n",
        "  # Add friends\n",
        "  account1.friends = [account2, account3]\n",
        "  account2.friends = [account1, account3]\n",
        "  account3.friends = [account1, account2]\n",
        "  account4.friends = [account5]\n",
        "  account5.friends = [account4]\n",
        "  # Create AccountManager\n",
        "  account_manager = AccountManager([account1, account2, account3, account4, account5])\n",
        "  # Test getMaxLikePostByFriend\n",
        "  print(\"The account having the post with the highest likes from the list of friends : \", account_manager.getMaxLikePostByFriend().name)\n",
        "  # Test groupAccountsByPostLike\n",
        "  grouped_accounts = account_manager.groupAccountsByPostLike()\n",
        "  print(\" The accounts having less than 10 posts :\", [account.name for account in grouped_accounts[False]])\n",
        "  print(\"The accounts having lots of than 10 posts:\", [account.name for account in grouped_accounts[True]])\n",
        "  # Test filterAccounts\n",
        "  print(\"The accounts from Viet Nam:\", [account.name for account in account_manager.filterAccounts(\"Viet Nam\")])"
      ],
      "metadata": {
        "id": "C17_VbmX6FQV",
        "colab": {
          "base_uri": "https://localhost:8080/"
        },
        "outputId": "5a0b63be-afbf-4738-bd0c-bd93872386de"
      },
      "execution_count": 53,
      "outputs": [
        {
          "output_type": "stream",
          "name": "stdout",
          "text": [
            "The account having the post with the highest likes from the list of friends :  Nguyen Mai Li\n",
            " The accounts having less than 10 posts : ['Nguyen Mai Li', 'Ho Nguyen Anh', 'Le Hoa', 'Huynh Thi Dy', 'Le Ngoc Hoan']\n",
            "The accounts having lots of than 10 posts: []\n",
            "The accounts from Viet Nam: ['Nguyen Mai Li', 'Huynh Thi Dy']\n"
          ]
        }
      ]
    }
  ]
}