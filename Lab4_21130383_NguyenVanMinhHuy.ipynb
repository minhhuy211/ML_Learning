{
  "nbformat": 4,
  "nbformat_minor": 0,
  "metadata": {
    "colab": {
      "provenance": [],
      "include_colab_link": true
    },
    "kernelspec": {
      "name": "python3",
      "display_name": "Python 3"
    },
    "language_info": {
      "name": "python"
    }
  },
  "cells": [
    {
      "cell_type": "markdown",
      "metadata": {
        "id": "view-in-github",
        "colab_type": "text"
      },
      "source": [
        "<a href=\"https://colab.research.google.com/github/minhhuy211/ML_Learning/blob/master/Lab4_21130383_NguyenVanMinhHuy.ipynb\" target=\"_parent\"><img src=\"https://colab.research.google.com/assets/colab-badge.svg\" alt=\"Open In Colab\"/></a>"
      ]
    },
    {
      "cell_type": "markdown",
      "source": [
        "# This lab is to deal with **Logistic Regression**, **kNN**, and **Decision Tree** alogirthms applied to classification tasks.\n",
        "\n",
        "*   **Deadline: 23:59, 01/04/2024**\n",
        "\n"
      ],
      "metadata": {
        "id": "LMzehe0sy5wr"
      }
    },
    {
      "cell_type": "markdown",
      "source": [
        "# Import libraries"
      ],
      "metadata": {
        "id": "H4nJmxp9zGX4"
      }
    },
    {
      "cell_type": "code",
      "execution_count": 7,
      "metadata": {
        "id": "DoVWQ8AEyc-C"
      },
      "outputs": [],
      "source": [
        "# code\n",
        "import numpy as np\n",
        "import pandas as pd\n",
        "import matplotlib.pyplot as plt\n",
        "from sklearn.impute import SimpleImputer\n",
        "from sklearn import preprocessing\n",
        "from sklearn.preprocessing import StandardScaler\n",
        "from sklearn.model_selection import train_test_split\n",
        "from sklearn.linear_model import LinearRegression,LogisticRegression\n",
        "from sklearn.neighbors import KNeighborsClassifier\n",
        "from sklearn import metrics\n",
        "from sklearn.metrics import confusion_matrix\n",
        "from sklearn.metrics import accuracy_score\n"
      ]
    },
    {
      "cell_type": "markdown",
      "source": [
        "#Task 1.\n",
        "Apply **LogisticRegression** to iris dataset to classify species of iris based on sepal_length (chiều dài đài hoa), sepal_width, petal_length (chiều dài cánh hoa), petal_width. The species are '**setosa**' '**versicolor**' and '**virginica**'.\n",
        "\n",
        "\n",
        "\n",
        "```\n",
        "from sklearn import datasets\n",
        "data1 = datasets.load_iris()\n",
        "```\n",
        "\n",
        "\n"
      ],
      "metadata": {
        "id": "kNv07ARGzOUm"
      }
    },
    {
      "cell_type": "code",
      "source": [
        "from sklearn import datasets\n",
        "data1 = datasets.load_iris()\n",
        "X = data1.data  # features\n",
        "y = data1.target  # labels\n",
        "\n",
        "# Build a model\n",
        "classifier = LogisticRegression(random_state = 0)\n",
        "X_train, X_test, y_train, y_test = train_test_split(X, y, test_size=0.3, random_state=42)\n",
        "classifier.fit(X_train, y_train)\n",
        "\n",
        "# Test the model\n",
        "y_pred = classifier.predict(X_test)\n",
        "\n",
        "# Confustion matrix\n",
        "cm = confusion_matrix(y_test, y_pred)\n",
        "print(cm)\n",
        "\n",
        "# Accuracy:\n",
        "print (\"Accuracy : \", accuracy_score(y_test, y_pred))\n"
      ],
      "metadata": {
        "id": "sOsg77IBzEyo",
        "colab": {
          "base_uri": "https://localhost:8080/"
        },
        "outputId": "22980f9a-4a87-4483-affa-5e04ca35621a"
      },
      "execution_count": 14,
      "outputs": [
        {
          "output_type": "stream",
          "name": "stdout",
          "text": [
            "[[19  0  0]\n",
            " [ 0 13  0]\n",
            " [ 0  0 13]]\n",
            "Accuracy :  1.0\n"
          ]
        }
      ]
    },
    {
      "cell_type": "markdown",
      "source": [
        "#Task 2.\n",
        "Apply LogisticRegression to **FASHION** dataset (*fashion_train.csv* and *fashion_test.csv*) which aims at classifying 10 fashion categories. Dataset includes 784 pixels values of images (28x28). This pixel-value is an integer between 0 and 255. Each training and test example is assigned to one of the following labels:\n",
        "\n",
        "*   0 T-shirt/top\n",
        "*   1 Trouser\n",
        "*   2 Pullover\n",
        "*   3 Dress\n",
        "*   4 Coat\n",
        "*   5 Sandal\n",
        "*   6 Shirt\n",
        "*   7 Sneaker\n",
        "*   8 Bag\n",
        "*   9 Ankle boot"
      ],
      "metadata": {
        "id": "S43IoUT-0OQq"
      }
    },
    {
      "cell_type": "code",
      "source": [
        "from google.colab import drive\n",
        "drive.mount('/content/gdrive')\n",
        "%cd '/content/gdrive/MyDrive/Colab Notebooks/Lab4'\n",
        "datatrain = pd.read_csv('fashion_train.csv')\n",
        "datatest = pd.read_csv('fashion_test.csv')\n",
        "\n",
        "X_train = datatrain.drop('y', axis=1)\n",
        "y_train = datatrain['y']\n",
        "\n",
        "X_test = datatest.drop('y', axis=1)\n",
        "y_test = datatest['y']\n",
        "\n",
        "# 3. Chuẩn hóa dữ liệu bằng cách chia cho giá trị tối đa của pixel\n",
        "X_train = X_train / 255.0\n",
        "X_test = X_test / 255.0\n",
        "\n",
        "# 4. Áp dụng Logistic Regression\n",
        "model = LogisticRegression(max_iter=1000)\n",
        "model.fit(X_train, y_train)\n",
        "\n",
        "# 5. Đánh giá mô hình\n",
        "y_pred = model.predict(X_test)\n",
        "\n",
        "cm = metrics.ConfusionMatrixDisplay.from_predictions(y_test, y_pred)\n",
        "print(cm)\n",
        "\n",
        "accuracy = metrics.accuracy_score(y_test, y_pred)\n",
        "print(\"Accuracy:\", accuracy)\n",
        "\n",
        "report = metrics.classification_report(y_test, y_pred)\n",
        "print(report)"
      ],
      "metadata": {
        "id": "_xhPpF5b033h",
        "colab": {
          "base_uri": "https://localhost:8080/",
          "height": 832
        },
        "outputId": "6058facd-bfeb-4a74-e86e-69eb1a5d14c7"
      },
      "execution_count": 29,
      "outputs": [
        {
          "output_type": "stream",
          "name": "stdout",
          "text": [
            "Drive already mounted at /content/gdrive; to attempt to forcibly remount, call drive.mount(\"/content/gdrive\", force_remount=True).\n",
            "/content/gdrive/MyDrive/Colab Notebooks/Lab4\n",
            "<sklearn.metrics._plot.confusion_matrix.ConfusionMatrixDisplay object at 0x7c280358f040>\n",
            "Accuracy: 0.802\n",
            "              precision    recall  f1-score   support\n",
            "\n",
            "           0       0.70      0.81      0.75        91\n",
            "           1       0.99      0.95      0.97        92\n",
            "           2       0.65      0.77      0.70        91\n",
            "           3       0.86      0.75      0.80       105\n",
            "           4       0.68      0.69      0.68        99\n",
            "           5       0.90      0.86      0.88       105\n",
            "           6       0.54      0.46      0.50        99\n",
            "           7       0.86      0.86      0.86        94\n",
            "           8       0.91      0.93      0.92       115\n",
            "           9       0.91      0.92      0.91       109\n",
            "\n",
            "    accuracy                           0.80      1000\n",
            "   macro avg       0.80      0.80      0.80      1000\n",
            "weighted avg       0.80      0.80      0.80      1000\n",
            "\n"
          ]
        },
        {
          "output_type": "display_data",
          "data": {
            "text/plain": [
              "<Figure size 640x480 with 2 Axes>"
            ],
            "image/png": "[encoded data removed]"
          },
          "metadata": {}
        }
      ]
    },
    {
      "cell_type": "markdown",
      "source": [
        "#Task 3.\n",
        "Apply another classification algorithm named **kNN**, which is an instance classifcation model.\n",
        "*  3.1. Perform kNN algorithm to Iris dataset with k={3, 5, …, 29}. Select the best value of k. Plot the values of **accuracy, precision, recall, f1 measure** metrics with different values of k.\n",
        "\n",
        "*   3.2. Then compare the obtained results with those using Logistic regression (based on metrics: **accuracy, precision, recall, f1 measure**) using **PrettyTable**.\n"
      ],
      "metadata": {
        "id": "Rti2y0Wz2KY9"
      }
    },
    {
      "cell_type": "code",
      "source": [
        "# code"
      ],
      "metadata": {
        "id": "13LkkfpS2ZUR"
      },
      "execution_count": null,
      "outputs": []
    },
    {
      "cell_type": "markdown",
      "source": [
        "#Task 4.\n",
        "Similar to Task 3, apply kNN algorithm to **FASHION** dataset which included in datasets of sklearn API.\n",
        "*  4.1.\tPerform kNN algorithm to Iris dataset with k={3, 5, …, 29}. Select the best value of k. Plot the values of **accuracy, precision, recall, f1 measure** metrics with different values of k.\n",
        "*  4.2.\tPlot the values of **accuracy, precision, recall, f1 measure** metrics with different values of k.\n",
        "*  4.3.\tThen compare the obtained results with those using Logistic regression (based on metrics: accuracy, precision, recall, f1 measure).\n"
      ],
      "metadata": {
        "id": "b52OPWPD2afi"
      }
    },
    {
      "cell_type": "code",
      "source": [
        "# code"
      ],
      "metadata": {
        "id": "Rw_-8FIf2KxW"
      },
      "execution_count": null,
      "outputs": []
    },
    {
      "cell_type": "markdown",
      "source": [
        "#Task 5.\n",
        "Compare the performance of selected classification algorithms (**Decision Tree, kNN, and Logistic Regression**) to ***spam detection***. The dataset can be accessed from the link: http://archive.ics.uci.edu/ml/datasets/Spambase\n",
        "Attribute Information:\n",
        "The last column of 'spambase.csv denotes whether the e-mail was considered **spam (1) or not (0)**, i.e. unsolicited commercial e-mail. Most of the attributes indicate whether a particular word or character was frequently occuring in the e-mail. The run-length attributes (55-57) measure the length of sequences of consecutive capital letters. For the statistical measures of each attribute, see the end of this file. Here are the definitions of the attributes:\n",
        "*  **48 continuous real [0,100] attributes** of type word_freq_WORD\n",
        "= percentage of words in the e-mail that match WORD, i.e. 100 * (number of times the WORD appears in the e-mail) / total number of words in e-mail. A \"word\" in this case is any string of alphanumeric characters bounded by non-alphanumeric characters or end-of-string. **Example**: word_freq_address: percentage of words in the e-mail that match ADDRESS.\n",
        "*  **6 continuous real [0,100] attributes** of type char_freq_CHAR]\n",
        "= percentage of characters in the e-mail that match CHAR, i.e. 100 * (number of CHAR occurences) / total characters in e-mail\n",
        "*  **1 continuous real [1,...] attribute** of type capital_run_length_average\n",
        "= average length of uninterrupted sequences of capital letters\n",
        "*  **1 continuous integer [1,...] attribute** of type capital_run_length_longest\n",
        "= length of longest uninterrupted sequence of capital letters\n",
        "*  **1 continuous integer [1,...] attribute** of type capital_run_length_total = sum of length of uninterrupted sequences of capital letters = total number of capital letters in the e-mail\n",
        "*  **1 nominal {0,1} class attribute** of type spam = denotes whether the e-mail was considered spam (1) or not (0), i.e. unsolicited commercial e-mail.\n",
        "\n",
        "\n",
        "---\n",
        "\n",
        "\n",
        "In order to compare the performance of selected algorithms, some common metrics including **accuracy, precision, recall, f1 measures** could be used.\n"
      ],
      "metadata": {
        "id": "MVzSk4l505E0"
      }
    },
    {
      "cell_type": "code",
      "source": [
        "# code"
      ],
      "metadata": {
        "id": "W_1v_ivR2f6D"
      },
      "execution_count": null,
      "outputs": []
    },
    {
      "cell_type": "code",
      "source": [
        "from prettytable import PrettyTable\n",
        "\n",
        "# These 3 are the columns of the tables\n",
        "t = PrettyTable(['Subject Code', 'Subject', 'Marks'])\n",
        "\n",
        "# To insert rows:\n",
        "t.add_row(['K01', 'Maths', 95])\n",
        "t.add_row(['K04', 'Physics', 89])\n",
        "t.add_row(['K03', 'Chemistry', 92])\n",
        "t.add_row(['K08', 'English', 91])\n",
        "t.add_row(['K29', 'Computer Science', 99])\n",
        "t.add_row(['K06', 'Social Science', 86])\n",
        "\n",
        "print(t)"
      ],
      "metadata": {
        "id": "ldcYhaaOPRDg",
        "outputId": "d7dcb280-a5c4-4b8f-97ce-80c77acfa8a6",
        "colab": {
          "base_uri": "https://localhost:8080/"
        }
      },
      "execution_count": null,
      "outputs": [
        {
          "output_type": "stream",
          "name": "stdout",
          "text": [
            "+--------------+------------------+-------+\n",
            "| Subject Code |     Subject      | Marks |\n",
            "+--------------+------------------+-------+\n",
            "|     K01      |      Maths       |   95  |\n",
            "|     K04      |     Physics      |   89  |\n",
            "|     K03      |    Chemistry     |   92  |\n",
            "|     K08      |     English      |   91  |\n",
            "|     K29      | Computer Science |   99  |\n",
            "|     K06      |  Social Science  |   86  |\n",
            "+--------------+------------------+-------+\n"
          ]
        }
      ]
    },
    {
      "cell_type": "markdown",
      "source": [
        "#Finally,\n",
        "Save a copy in your Github. Remember renaming the notebook."
      ],
      "metadata": {
        "id": "Ok7RGkea_b7n"
      }
    }
  ]
}